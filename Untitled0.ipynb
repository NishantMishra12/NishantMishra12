{
  "nbformat": 4,
  "nbformat_minor": 0,
  "metadata": {
    "colab": {
      "provenance": [],
      "authorship_tag": "ABX9TyPO8xw/pbcCBmGgc549Zg47",
      "include_colab_link": true
    },
    "kernelspec": {
      "name": "python3",
      "display_name": "Python 3"
    },
    "language_info": {
      "name": "python"
    }
  },
  "cells": [
    {
      "cell_type": "markdown",
      "metadata": {
        "id": "view-in-github",
        "colab_type": "text"
      },
      "source": [
        "<a href=\"https://colab.research.google.com/github/NishantMishra12/NishantMishra12/blob/main/Untitled0.ipynb\" target=\"_parent\"><img src=\"https://colab.research.google.com/assets/colab-badge.svg\" alt=\"Open In Colab\"/></a>"
      ]
    },
    {
      "cell_type": "code",
      "execution_count": 4,
      "metadata": {
        "colab": {
          "base_uri": "https://localhost:8080/"
        },
        "id": "P9w5O1ne5U4z",
        "outputId": "f93f48ed-44c7-4d0c-ff48-36cfee6cd780"
      },
      "outputs": [
        {
          "output_type": "stream",
          "name": "stdout",
          "text": [
            "Enter A number10\n",
            "10  is even\n"
          ]
        }
      ],
      "source": [
        "#Write a Python program to find whether a given number (accept from the user) is even or odd\n",
        "\n",
        "number=eval(input(\"Enter A number\"))\n",
        "if(number%2==0):\n",
        "  print(number,\" is even\")\n",
        "else:\n",
        "  print(number,\"is odd\")\n",
        "\n",
        "    "
      ]
    }
  ]
}